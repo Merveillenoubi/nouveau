{
 "cells": [
  {
   "cell_type": "code",
   "execution_count": 1,
   "id": "2c91387e",
   "metadata": {},
   "outputs": [],
   "source": [
    "def to_test(x):\n",
    "    return x+5"
   ]
  },
  {
   "cell_type": "code",
   "execution_count": 2,
   "id": "a57608c5",
   "metadata": {},
   "outputs": [
    {
     "data": {
      "text/plain": [
       "10"
      ]
     },
     "execution_count": 2,
     "metadata": {},
     "output_type": "execute_result"
    }
   ],
   "source": [
    "to_test(5)"
   ]
  },
  {
   "cell_type": "code",
   "execution_count": 3,
   "id": "ca37f696",
   "metadata": {},
   "outputs": [],
   "source": [
    "def test_add_5():\n",
    "    assert add_5(5) == 10"
   ]
  },
  {
   "cell_type": "code",
   "execution_count": null,
   "id": "268be179",
   "metadata": {},
   "outputs": [],
   "source": [
    "\n"
   ]
  },
  {
   "cell_type": "code",
   "execution_count": null,
   "id": "2ce6d5c7",
   "metadata": {},
   "outputs": [],
   "source": []
  }
 ],
 "metadata": {
  "kernelspec": {
   "display_name": "Python 3 (ipykernel)",
   "language": "python",
   "name": "python3"
  },
  "language_info": {
   "codemirror_mode": {
    "name": "ipython",
    "version": 3
   },
   "file_extension": ".py",
   "mimetype": "text/x-python",
   "name": "python",
   "nbconvert_exporter": "python",
   "pygments_lexer": "ipython3",
   "version": "3.11.9"
  }
 },
 "nbformat": 4,
 "nbformat_minor": 5
}
